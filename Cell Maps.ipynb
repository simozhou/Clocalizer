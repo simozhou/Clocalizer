{
 "cells": [
  {
   "cell_type": "code",
   "execution_count": 2,
   "metadata": {},
   "outputs": [],
   "source": [
    "import numpy as np\n",
    "import tensorflow as tf"
   ]
  },
  {
   "cell_type": "code",
   "execution_count": null,
   "metadata": {},
   "outputs": [],
   "source": [
    "# the model itself\n",
    "def cnn_clocator(inputs, classes, mode):\n",
    "    \n",
    "    conv1 = tf.layers.conv2d(inputs=inputs, filters=50, kernel_size=[3,3], padding=\"same\", activation=tf.nn.relu)\n",
    "    \n",
    "    conv2 = tf.layers.conv2d(inputs=conv1, filters=80, kernel_size=[5,5], padding=\"same\", activation=tf.nn.relu)\n",
    "    \n",
    "    pool = tf.layers.max_pooling2d(inputs=conv2, pool_size=[2, 2], strides=2)\n",
    "    \n",
    "    pool_flat = "
   ]
  }
 ],
 "metadata": {
  "kernelspec": {
   "display_name": "Python 3",
   "language": "python",
   "name": "python3"
  },
  "language_info": {
   "codemirror_mode": {
    "name": "ipython",
    "version": 3
   },
   "file_extension": ".py",
   "mimetype": "text/x-python",
   "name": "python",
   "nbconvert_exporter": "python",
   "pygments_lexer": "ipython3",
   "version": "3.6.5"
  }
 },
 "nbformat": 4,
 "nbformat_minor": 2
}
